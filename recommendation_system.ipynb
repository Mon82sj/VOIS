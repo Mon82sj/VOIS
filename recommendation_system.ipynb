{
  "nbformat": 4,
  "nbformat_minor": 0,
  "metadata": {
    "colab": {
      "provenance": [],
      "authorship_tag": "ABX9TyNwVnbOaTwYNoBq8TDwL64h",
      "include_colab_link": true
    },
    "kernelspec": {
      "name": "python3",
      "display_name": "Python 3"
    },
    "language_info": {
      "name": "python"
    }
  },
  "cells": [
    {
      "cell_type": "markdown",
      "metadata": {
        "id": "view-in-github",
        "colab_type": "text"
      },
      "source": [
        "<a href=\"https://colab.research.google.com/github/Mon82sj/VOIS/blob/main/recommendation_system.ipynb\" target=\"_parent\"><img src=\"https://colab.research.google.com/assets/colab-badge.svg\" alt=\"Open In Colab\"/></a>"
      ]
    },
    {
      "cell_type": "code",
      "source": [
        "#FINAL CODE\n",
        "import pandas as pd\n",
        "from sklearn.feature_extraction.text import TfidfVectorizer\n",
        "from sklearn.metrics.pairwise import cosine_similarity\n",
        "\n",
        "# Load the dataset\n",
        "df = pd.read_csv('student_domain_course_ratings.csv')\n",
        "\n",
        "# Rename 'Ratings' to 'Rating'\n",
        "df.rename(columns={'Ratings': 'Rating'}, inplace=True)\n",
        "\n",
        "# Normalize case\n",
        "df['Domain'] = df['Domain'].str.lower()\n",
        "df['Course'] = df['Course'].str.lower()\n",
        "\n",
        "# Combine 'Domain' and 'Course' columns into a single 'content' column for TF-IDF\n",
        "df['content'] = df['Domain'] + \" \" + df['Course']\n",
        "\n",
        "# Initialize the TF-IDF vectorizer\n",
        "tfidf = TfidfVectorizer(stop_words='english')\n",
        "\n",
        "# Fit and transform the content to generate the TF-IDF matrix\n",
        "tfidf_matrix = tfidf.fit_transform(df['content'])\n",
        "\n",
        "# Calculate the cosine similarity between all courses\n",
        "cosine_sim = cosine_similarity(tfidf_matrix, tfidf_matrix)\n",
        "\n",
        "# Create a series with the course names as the index, handling duplicates\n",
        "course_indices = pd.Series(df.index, index=df['Course']).drop_duplicates()\n",
        "\n",
        "def recommend_courses(search_input, cosine_sim=cosine_sim):\n",
        "    search_input = search_input.lower()  # Normalize user input case\n",
        "\n",
        "    if search_input in course_indices.index:\n",
        "        # User input is a course\n",
        "        idx_list = course_indices[search_input]\n",
        "\n",
        "        if len(idx_list) == 0:\n",
        "            print(\"Course not found.\")\n",
        "            return pd.DataFrame(columns=['Course', 'Rating'])\n",
        "\n",
        "        # Use the first index in case of multiple entries\n",
        "        idx = idx_list[0]\n",
        "        course_domain = df.at[idx, 'Domain']\n",
        "\n",
        "        # List courses in the same domain\n",
        "        domain_courses = df[df['Domain'] == course_domain]\n",
        "\n",
        "        # Sort courses by rating\n",
        "        domain_courses_sorted = domain_courses.sort_values(by='Rating', ascending=False).head(20)\n",
        "        return domain_courses_sorted[['Course', 'Rating']]\n",
        "\n",
        "    elif search_input in df['Domain'].values:\n",
        "        # User input is a domain\n",
        "        domain_courses = df[df['Domain'] == search_input]\n",
        "\n",
        "        # Sort courses by rating\n",
        "        domain_courses_sorted = domain_courses.sort_values(by='Rating', ascending=False).head(20)\n",
        "        return domain_courses_sorted[['Course', 'Rating']]\n",
        "\n",
        "    else:\n",
        "        print(\"Input not found.\")\n",
        "        return pd.DataFrame(columns=['Course', 'Rating'])\n",
        "\n",
        "# Example: Recommend courses based on user input\n",
        "user_input = input(\"Enter the course name : \")  # Replace with dynamic user input if needed\n",
        "recommended_courses_df = recommend_courses(user_input)\n",
        "print(\"Recommended courses:\")\n",
        "print(recommended_courses_df)\n"
      ],
      "metadata": {
        "colab": {
          "base_uri": "https://localhost:8080/"
        },
        "id": "hv2Xq948I5rq",
        "outputId": "e4cab44a-b497-434d-fda5-353ef205caea"
      },
      "execution_count": 75,
      "outputs": [
        {
          "output_type": "stream",
          "name": "stdout",
          "text": [
            "Enter the course name : cloud computing\n",
            "Recommended courses:\n",
            "                Course  Rating\n",
            "67      cloud security       5\n",
            "72      cloud security       5\n",
            "46  azure fundamentals       4\n",
            "16      aws essentials       3\n",
            "26      aws essentials       3\n",
            "33      aws essentials       2\n",
            "56        cloud basics       2\n",
            "1         cloud basics       0\n",
            "3       cloud security       0\n",
            "13        cloud basics       0\n",
            "29        cloud basics       0\n",
            "94      aws essentials       0\n",
            "96        cloud basics       0\n"
          ]
        }
      ]
    },
    {
      "cell_type": "code",
      "source": [
        "pip install surprise"
      ],
      "metadata": {
        "colab": {
          "base_uri": "https://localhost:8080/"
        },
        "id": "OyK2NAX7KW2R",
        "outputId": "4c3f56a8-aa66-4d3d-bb22-43b2939e19fe"
      },
      "execution_count": 61,
      "outputs": [
        {
          "output_type": "stream",
          "name": "stdout",
          "text": [
            "Collecting surprise\n",
            "  Downloading surprise-0.1-py2.py3-none-any.whl.metadata (327 bytes)\n",
            "Collecting scikit-surprise (from surprise)\n",
            "  Downloading scikit_surprise-1.1.4.tar.gz (154 kB)\n",
            "\u001b[2K     \u001b[90m━━━━━━━━━━━━━━━━━━━━━━━━━━━━━━━━━━━━━━━━\u001b[0m \u001b[32m154.4/154.4 kB\u001b[0m \u001b[31m1.6 MB/s\u001b[0m eta \u001b[36m0:00:00\u001b[0m\n",
            "\u001b[?25h  Installing build dependencies ... \u001b[?25l\u001b[?25hdone\n",
            "  Getting requirements to build wheel ... \u001b[?25l\u001b[?25hdone\n",
            "  Preparing metadata (pyproject.toml) ... \u001b[?25l\u001b[?25hdone\n",
            "Requirement already satisfied: joblib>=1.2.0 in /usr/local/lib/python3.10/dist-packages (from scikit-surprise->surprise) (1.4.2)\n",
            "Requirement already satisfied: numpy>=1.19.5 in /usr/local/lib/python3.10/dist-packages (from scikit-surprise->surprise) (1.26.4)\n",
            "Requirement already satisfied: scipy>=1.6.0 in /usr/local/lib/python3.10/dist-packages (from scikit-surprise->surprise) (1.13.1)\n",
            "Downloading surprise-0.1-py2.py3-none-any.whl (1.8 kB)\n",
            "Building wheels for collected packages: scikit-surprise\n",
            "  Building wheel for scikit-surprise (pyproject.toml) ... \u001b[?25l\u001b[?25hdone\n",
            "  Created wheel for scikit-surprise: filename=scikit_surprise-1.1.4-cp310-cp310-linux_x86_64.whl size=2357293 sha256=d2ff2ff07ae7558ebc54c4efa18f138f3e69c4cd3e632b67b782bf0801af6fc2\n",
            "  Stored in directory: /root/.cache/pip/wheels/4b/3f/df/6acbf0a40397d9bf3ff97f582cc22fb9ce66adde75bc71fd54\n",
            "Successfully built scikit-surprise\n",
            "Installing collected packages: scikit-surprise, surprise\n",
            "Successfully installed scikit-surprise-1.1.4 surprise-0.1\n"
          ]
        }
      ]
    },
    {
      "cell_type": "code",
      "source": [
        "from surprise import Dataset, Reader, SVD, accuracy\n",
        "from surprise.model_selection import train_test_split, cross_validate\n",
        "import pandas as pd\n",
        "\n",
        "# Load your dataset\n",
        "df = pd.read_csv('student_domain_course_ratings.csv')\n",
        "\n",
        "# Define a Reader for surprise\n",
        "reader = Reader(rating_scale=(df['Rating'].min(), df['Rating'].max()))\n",
        "\n",
        "# Load the dataset into Surprise\n",
        "data = Dataset.load_from_df(df[['Student ID', 'Course', 'Rating']], reader)\n",
        "\n",
        "# Split the dataset into training and testing sets\n",
        "trainset, testset = train_test_split(data, test_size=0.2)\n",
        "\n",
        "# Initialize and train the SVD model\n",
        "model = SVD()\n",
        "model.fit(trainset)\n",
        "\n",
        "# Evaluate the model\n",
        "predictions = model.test(testset)\n",
        "accuracy = accuracy.rmse(predictions)\n",
        "print(f'RMSE: {accuracy}')\n",
        "\n",
        "# Cross-Validation\n",
        "cv_results = cross_validate(model, data, measures=['RMSE'], cv=5, verbose=True)\n"
      ],
      "metadata": {
        "colab": {
          "base_uri": "https://localhost:8080/"
        },
        "id": "HFsJZj3eKQwZ",
        "outputId": "3468391f-112c-48ea-b5e5-b55bd4c99570"
      },
      "execution_count": 69,
      "outputs": [
        {
          "output_type": "stream",
          "name": "stdout",
          "text": [
            "RMSE: 1.7287\n",
            "RMSE: 1.7287027744965764\n",
            "Evaluating RMSE of algorithm SVD on 5 split(s).\n",
            "\n",
            "                  Fold 1  Fold 2  Fold 3  Fold 4  Fold 5  Mean    Std     \n",
            "RMSE (testset)    1.7731  1.9312  1.8571  1.4719  1.4902  1.7047  0.1894  \n",
            "Fit time          0.01    0.01    0.02    0.01    0.01    0.01    0.00    \n",
            "Test time         0.01    0.00    0.00    0.00    0.00    0.00    0.00    \n"
          ]
        }
      ]
    },
    {
      "cell_type": "code",
      "source": [
        "import pandas as pd\n",
        "from sklearn.feature_extraction.text import TfidfVectorizer\n",
        "from sklearn.metrics.pairwise import cosine_similarity\n",
        "\n",
        "def load_and_prepare_data(file_path):\n",
        "    \"\"\"Load dataset and prepare it for processing.\"\"\"\n",
        "    df = pd.read_csv(file_path)\n",
        "    df.rename(columns={'Ratings': 'Rating'}, inplace=True)\n",
        "    df['Domain'] = df['Domain'].str.lower()\n",
        "    df['Course'] = df['Course'].str.lower()\n",
        "    df['content'] = df['Domain'] + \" \" + df['Course']\n",
        "    return df\n",
        "\n",
        "def compute_tfidf_matrix(df):\n",
        "    \"\"\"Compute TF-IDF matrix from the 'content' column.\"\"\"\n",
        "    tfidf = TfidfVectorizer(stop_words='english')\n",
        "    return tfidf.fit_transform(df['content'])\n",
        "\n",
        "def calculate_cosine_similarity(tfidf_matrix):\n",
        "    \"\"\"Calculate cosine similarity matrix.\"\"\"\n",
        "    return cosine_similarity(tfidf_matrix, tfidf_matrix)\n",
        "\n",
        "def create_course_index(df):\n",
        "    \"\"\"Create a Series with the course names as the index.\"\"\"\n",
        "    return pd.Series(df.index, index=df['Course']).drop_duplicates()\n",
        "\n",
        "def get_domain_courses(df, domain):\n",
        "    \"\"\"Get courses for a given domain and sort by rating.\"\"\"\n",
        "    domain_courses = df[df['Domain'] == domain]\n",
        "    return domain_courses.sort_values(by='Rating', ascending=False).head(20)[['Course', 'Rating']]\n",
        "\n",
        "def recommend_courses(search_input, df, cosine_sim, course_indices):\n",
        "    \"\"\"Recommend courses based on user input.\"\"\"\n",
        "    search_input = search_input.lower()\n",
        "    if search_input in course_indices.index:\n",
        "        idx_list = course_indices[search_input]\n",
        "        if len(idx_list) == 0:\n",
        "            print(\"Course not found.\")\n",
        "            return pd.DataFrame(columns=['Course', 'Rating'])\n",
        "        idx = idx_list[0]\n",
        "        course_domain = df.at[idx, 'Domain']\n",
        "        return get_domain_courses(df, course_domain)\n",
        "    elif search_input in df['Domain'].values:\n",
        "        return get_domain_courses(df, search_input)\n",
        "    else:\n",
        "        print(\"Input not found.\")\n",
        "        return pd.DataFrame(columns=['Course', 'Rating'])\n",
        "\n",
        "# Main execution\n",
        "if __name__ == \"__main__\":\n",
        "    df = load_and_prepare_data('student_domain_course_ratings.csv')\n",
        "    tfidf_matrix = compute_tfidf_matrix(df)\n",
        "    cosine_sim = calculate_cosine_similarity(tfidf_matrix)\n",
        "    course_indices = create_course_index(df)\n",
        "\n",
        "    user_input = input(\"Enter the course name or domain: \")  # Replace with dynamic user input if needed\n",
        "    recommended_courses_df = recommend_courses(user_input, df, cosine_sim, course_indices)\n",
        "    print(\"Recommended courses:\")\n",
        "    print(recommended_courses_df)\n"
      ],
      "metadata": {
        "id": "y2ZocDF5P4Jh",
        "colab": {
          "base_uri": "https://localhost:8080/"
        },
        "outputId": "b9e8af61-bf7b-4480-f2c1-4e6aac2db13a"
      },
      "execution_count": 190,
      "outputs": [
        {
          "output_type": "stream",
          "name": "stdout",
          "text": [
            "Enter the course name or domain: machine learning\n",
            "Recommended courses:\n",
            "                         Course  Rating\n",
            "14      machine learning basics       5\n",
            "86      machine learning basics       5\n",
            "69                deep learning       5\n",
            "83  natural language processing       4\n",
            "70              neural networks       4\n",
            "98  natural language processing       3\n",
            "79      machine learning basics       3\n",
            "6       machine learning basics       3\n",
            "17              neural networks       3\n",
            "76  natural language processing       3\n",
            "97      machine learning basics       2\n",
            "37  natural language processing       1\n",
            "5                 deep learning       1\n",
            "92                deep learning       0\n",
            "81      machine learning basics       0\n",
            "0       machine learning basics       0\n",
            "47      machine learning basics       0\n",
            "45                deep learning       0\n",
            "35                deep learning       0\n",
            "28      machine learning basics       0\n"
          ]
        }
      ]
    },
    {
      "cell_type": "code",
      "source": [
        "import pandas as pd\n",
        "from sklearn.feature_extraction.text import TfidfVectorizer\n",
        "from sklearn.metrics.pairwise import cosine_similarity\n",
        "from sklearn.metrics import mean_squared_error, mean_absolute_error\n",
        "from sklearn.model_selection import train_test_split\n",
        "import matplotlib.pyplot as plt\n",
        "import seaborn as sns\n",
        "\n",
        "# Load the dataset\n",
        "df = pd.read_csv('student_domain_course_ratings.csv')\n",
        "\n",
        "# Rename 'Ratings' to 'Rating'\n",
        "df.rename(columns={'Ratings': 'Rating'}, inplace=True)\n",
        "\n",
        "# Handle missing values by filling with mean\n",
        "df['Rating'].fillna(df['Rating'].mean(), inplace=True)\n",
        "\n",
        "# Remove duplicates\n",
        "df.drop_duplicates(inplace=True)\n",
        "\n",
        "# Normalize case\n",
        "df['Domain'] = df['Domain'].str.lower()\n",
        "df['Course'] = df['Course'].str.lower()\n",
        "\n",
        "# Combine 'Domain' and 'Course' columns into a single 'content' column for TF-IDF\n",
        "df['content'] = df['Domain'] + \" \" + df['Course']\n",
        "\n",
        "# Initialize the TF-IDF vectorizer\n",
        "tfidf = TfidfVectorizer(stop_words='english')\n",
        "\n",
        "# Fit and transform the content to generate the TF-IDF matrix\n",
        "tfidf_matrix = tfidf.fit_transform(df['content'])\n",
        "\n",
        "# Calculate the cosine similarity between all courses\n",
        "cosine_sim = cosine_similarity(tfidf_matrix, tfidf_matrix)\n",
        "\n",
        "# Create a series with the course names as the index, handling duplicates\n",
        "course_indices = pd.Series(df.index, index=df['Course']).drop_duplicates()\n",
        "\n",
        "# Train-Test Split for evaluation (dummy example)\n",
        "X_train, X_test, y_train, y_test = train_test_split(tfidf_matrix, df['Rating'], test_size=0.2, random_state=42)\n",
        "\n",
        "# Dummy model evaluation (using mean as prediction for illustration)\n",
        "y_pred = [y_train.mean()] * len(y_test)\n",
        "\n",
        "# Calculate Mean Squared Error and Mean Absolute Error\n",
        "mse = mean_squared_error(y_test, y_pred)\n",
        "mae = mean_absolute_error(y_test, y_pred)\n",
        "print(f\"Mean Squared Error (MSE): {mse}\")\n",
        "print(f\"Mean Absolute Error (MAE): {mae}\")\n",
        "\n",
        "def recommend_courses(search_input, cosine_sim=cosine_sim):\n",
        "    search_input = search_input.lower()  # Normalize user input case\n",
        "\n",
        "    if search_input in course_indices.index:\n",
        "        # User input is a course\n",
        "        idx_list = course_indices[search_input]\n",
        "\n",
        "        if len(idx_list) == 0:\n",
        "            print(\"Course not found.\")\n",
        "            return pd.DataFrame(columns=['Course', 'Rating'])\n",
        "\n",
        "        # Use the first index in case of multiple entries\n",
        "        idx = idx_list[0]\n",
        "        course_domain = df.at[idx, 'Domain']\n",
        "\n",
        "        # List courses in the same domain\n",
        "        domain_courses = df[df['Domain'] == course_domain]\n",
        "\n",
        "        # Sort courses by rating\n",
        "        domain_courses_sorted = domain_courses.sort_values(by='Rating', ascending=False).head(20)\n",
        "        return domain_courses_sorted[['Course', 'Rating']]\n",
        "\n",
        "    elif search_input in df['Domain'].values:\n",
        "        # User input is a domain\n",
        "        domain_courses = df[df['Domain'] == search_input]\n",
        "\n",
        "        # Sort courses by rating\n",
        "        domain_courses_sorted = domain_courses.sort_values(by='Rating', ascending=False).head(20)\n",
        "        return domain_courses_sorted[['Course', 'Rating']]\n",
        "\n",
        "    else:\n",
        "        print(\"Input not found.\")\n",
        "        return pd.DataFrame(columns=['Course', 'Rating'])\n",
        "\n",
        "# Example: Recommend courses based on user input\n",
        "user_input = input(\"Enter the course name : \")  # Replace with dynamic user input if needed\n",
        "recommended_courses_df = recommend_courses(user_input)\n",
        "print(\"Recommended courses:\")\n",
        "print(recommended_courses_df)\n",
        "\n",
        "# Plot the ratings of the recommended courses\n",
        "if not recommended_courses_df.empty:\n",
        "    plt.figure(figsize=(10, 6))\n",
        "    sns.barplot(x='Rating', y='Course', data=recommended_courses_df)\n",
        "    plt.title('Top Recommended Courses')\n",
        "    plt.xlabel('Rating')\n",
        "    plt.ylabel('Course')\n",
        "    plt.show()\n"
      ],
      "metadata": {
        "id": "TEMApk0gTFYg",
        "colab": {
          "base_uri": "https://localhost:8080/",
          "height": 876
        },
        "outputId": "3c90557e-89b6-4c3d-fdd5-a3499e8e3275"
      },
      "execution_count": 3,
      "outputs": [
        {
          "output_type": "stream",
          "name": "stdout",
          "text": [
            "Mean Squared Error (MSE): 2.190394167601346\n",
            "Mean Absolute Error (MAE): 1.25\n",
            "Enter the course name : cloud computing\n",
            "Recommended courses:\n",
            "                Course  Rating\n",
            "67      cloud security       5\n",
            "72      cloud security       5\n",
            "46  azure fundamentals       4\n",
            "16      aws essentials       3\n",
            "26      aws essentials       3\n",
            "33      aws essentials       2\n",
            "56        cloud basics       2\n",
            "1         cloud basics       0\n",
            "3       cloud security       0\n",
            "13        cloud basics       0\n",
            "29        cloud basics       0\n",
            "94      aws essentials       0\n",
            "96        cloud basics       0\n"
          ]
        },
        {
          "output_type": "display_data",
          "data": {
            "text/plain": [
              "<Figure size 1000x600 with 1 Axes>"
            ],
            "image/png": "[encoded data removed]"
          },
          "metadata": {}
        }
      ]
    },
    {
      "cell_type": "code",
      "source": [
        "import pandas as pd\n",
        "from sklearn.feature_extraction.text import TfidfVectorizer\n",
        "from sklearn.metrics.pairwise import cosine_similarity\n",
        "from sklearn.metrics import mean_squared_error, mean_absolute_error, precision_score, recall_score, f1_score\n",
        "from sklearn.model_selection import train_test_split\n",
        "import numpy as np\n",
        "import matplotlib.pyplot as plt\n",
        "import seaborn as sns\n",
        "\n",
        "# Load the dataset\n",
        "df = pd.read_csv('student_domain_course_ratings.csv')\n",
        "\n",
        "# Rename 'Ratings' to 'Rating'\n",
        "df.rename(columns={'Ratings': 'Rating'}, inplace=True)\n",
        "\n",
        "# Handle missing values by filling with mean\n",
        "df['Rating'].fillna(df['Rating'].mean(), inplace=True)\n",
        "\n",
        "# Remove duplicates\n",
        "df.drop_duplicates(inplace=True)\n",
        "\n",
        "# Normalize case\n",
        "df['Domain'] = df['Domain'].str.lower()\n",
        "df['Course'] = df['Course'].str.lower()\n",
        "\n",
        "# Combine 'Domain' and 'Course' columns into a single 'content' column for TF-IDF\n",
        "df['content'] = df['Domain'] + \" \" + df['Course']\n",
        "\n",
        "# Initialize the TF-IDF vectorizer\n",
        "tfidf = TfidfVectorizer(stop_words='english')\n",
        "\n",
        "# Fit and transform the content to generate the TF-IDF matrix\n",
        "tfidf_matrix = tfidf.fit_transform(df['content'])\n",
        "\n",
        "# Calculate the cosine similarity between all courses\n",
        "cosine_sim = cosine_similarity(tfidf_matrix, tfidf_matrix)\n",
        "\n",
        "# Create a series with the course names as the index, handling duplicates\n",
        "course_indices = pd.Series(df.index, index=df['Course']).drop_duplicates()\n",
        "\n",
        "# Function to predict using TF-IDF similarity\n",
        "def content_based_predict(course_name, n_recommendations=5):\n",
        "    course_name = course_name.lower()\n",
        "    if course_name in course_indices:\n",
        "        course_idx = course_indices[course_name]\n",
        "        sim_scores = list(enumerate(cosine_sim[course_idx]))\n",
        "        sim_scores = sorted(sim_scores, key=lambda x: x[1], reverse=True)\n",
        "        sim_scores = sim_scores[1:n_recommendations+1]\n",
        "        course_indices_sorted = [i[0] for i in sim_scores]\n",
        "        return df.iloc[course_indices_sorted]\n",
        "    else:\n",
        "        print(f\"Course '{course_name}' not found.\")\n",
        "        return pd.DataFrame(columns=['Course', 'Rating'])\n",
        "\n",
        "# Train-Test Split for evaluation\n",
        "X_train, X_test, y_train, y_test = train_test_split(tfidf_matrix, df['Rating'], test_size=0.2, random_state=42)\n",
        "\n",
        "# Example: Evaluation of Content-Based Filtering\n",
        "# Replace 'valid_course_name' with an actual course name from your dataset\n",
        "recommendations = content_based_predict('valid_course_name')\n",
        "\n",
        "# If recommendations are found, continue with precision, recall, and f1-score calculations\n",
        "if not recommendations.empty:\n",
        "    # Randomly generated placeholders; replace with actual evaluation mechanism\n",
        "    true_positives = np.random.choice([1, 0], size=len(recommendations))\n",
        "    predicted_positives = np.random.choice([1, 0], size=len(recommendations))\n",
        "\n",
        "    precision = precision_score(true_positives, predicted_positives)\n",
        "    recall = recall_score(true_positives, predicted_positives)\n",
        "    f1 = f1_score(true_positives, predicted_positives)\n",
        "\n",
        "    print(f\"Precision: {precision}\")\n",
        "    print(f\"Recall: {recall}\")\n",
        "    print(f\"F1-Score: {f1}\")\n",
        "\n",
        "    # Visualizing Precision, Recall, F1-Score\n",
        "    plt.figure(figsize=(10, 6))\n",
        "    metrics = ['Precision', 'Recall', 'F1-Score']\n",
        "    values = [precision, recall, f1]\n",
        "    sns.barplot(x=metrics, y=values)\n",
        "    plt.title('Content-Based Filtering Evaluation')\n",
        "    plt.ylabel('Score')\n",
        "    plt.ylim(0, 1)\n",
        "    plt.show()\n",
        "else:\n",
        "    print(\"No recommendations to evaluate.\")\n",
        "\n",
        "# Collaborative Filtering: RMSE, MAE for Evaluation\n",
        "y_pred = [y_train.mean()] * len(y_test)  # Dummy prediction: use average rating\n",
        "rmse = np.sqrt(mean_squared_error(y_test, y_pred))\n",
        "mae = mean_absolute_error(y_test, y_pred)\n",
        "\n",
        "print(f\"RMSE: {rmse}\")\n",
        "print(f\"MAE: {mae}\")\n",
        "\n",
        "# Plotting RMSE and MAE\n",
        "plt.figure(figsize=(10, 6))\n",
        "plt.bar(['RMSE', 'MAE'], [rmse, mae], color=['blue', 'red'])\n",
        "plt.title('Collaborative Filtering Evaluation')\n",
        "plt.ylabel('Error')\n",
        "plt.show()\n",
        "\n",
        "def recommend_courses(search_input, cosine_sim=cosine_sim):\n",
        "    search_input = search_input.lower()  # Normalize user input case\n",
        "\n",
        "    if search_input in course_indices.index:\n",
        "        # User input is a course\n",
        "        idx_list = course_indices[search_input]\n",
        "\n",
        "        if len(idx_list) == 0:\n",
        "            print(\"Course not found.\")\n",
        "            return pd.DataFrame(columns=['Course', 'Rating'])\n",
        "\n",
        "        # Use the first index in case of multiple entries\n",
        "        idx = idx_list[0]\n",
        "        course_domain = df.at[idx, 'Domain']\n",
        "\n",
        "        # List courses in the same domain\n",
        "        domain_courses = df[df['Domain'] == course_domain]\n",
        "\n",
        "        # Sort courses by rating\n",
        "        domain_courses_sorted = domain_courses.sort_values(by='Rating', ascending=False).head(20)\n",
        "        return domain_courses_sorted[['Course', 'Rating']]\n",
        "\n",
        "    elif search_input in df['Domain'].values:\n",
        "        # User input is a domain\n",
        "        domain_courses = df[df['Domain'] == search_input]\n",
        "\n",
        "        # Sort courses by rating\n",
        "        domain_courses_sorted = domain_courses.sort_values(by='Rating', ascending=False).head(20)\n",
        "        return domain_courses_sorted[['Course', 'Rating']]\n",
        "\n",
        "    else:\n",
        "        print(\"Input not found.\")\n",
        "        return pd.DataFrame(columns=['Course', 'Rating'])\n",
        "\n",
        "# Example: Recommend courses based on user input\n",
        "user_input = input(\"Enter the course name : \")  # Replace with dynamic user input if needed\n",
        "recommended_courses_df = recommend_courses(user_input)\n",
        "print(\"Recommended courses:\")\n",
        "print(recommended_courses_df)\n",
        "\n",
        "# Plot the ratings of the recommended courses\n",
        "if not recommended_courses_df.empty:\n",
        "    plt.figure(figsize=(10, 6))\n",
        "    sns.barplot(x='Rating', y='Course', data=recommended_courses_df)\n",
        "    plt.title('Top Recommended Courses')\n",
        "    plt.xlabel('Rating')\n",
        "    plt.ylabel('Course')\n",
        "    plt.show()\n"
      ],
      "metadata": {
        "id": "pt8S7kmQTfnC",
        "colab": {
          "base_uri": "https://localhost:8080/",
          "height": 1000
        },
        "outputId": "68de7d3e-05c4-4a03-89be-f81b79147317"
      },
      "execution_count": 16,
      "outputs": [
        {
          "output_type": "stream",
          "name": "stdout",
          "text": [
            "Course 'valid_course_name' not found.\n",
            "No recommendations to evaluate.\n",
            "RMSE: 1.4799980295937376\n",
            "MAE: 1.25\n"
          ]
        },
        {
          "output_type": "display_data",
          "data": {
            "text/plain": [
              "<Figure size 1000x600 with 1 Axes>"
            ],
            "image/png": "[encoded data removed]"
          },
          "metadata": {}
        },
        {
          "output_type": "stream",
          "name": "stdout",
          "text": [
            "Enter the course name : cloud computing\n",
            "Recommended courses:\n",
            "                Course  Rating\n",
            "67      cloud security       5\n",
            "72      cloud security       5\n",
            "46  azure fundamentals       4\n",
            "16      aws essentials       3\n",
            "26      aws essentials       3\n",
            "33      aws essentials       2\n",
            "56        cloud basics       2\n",
            "1         cloud basics       0\n",
            "3       cloud security       0\n",
            "13        cloud basics       0\n",
            "29        cloud basics       0\n",
            "94      aws essentials       0\n",
            "96        cloud basics       0\n"
          ]
        },
        {
          "output_type": "display_data",
          "data": {
            "text/plain": [
              "<Figure size 1000x600 with 1 Axes>"
            ],
            "image/png": "[encoded data removed]"
          },
          "metadata": {}
        }
      ]
    },
    {
      "cell_type": "code",
      "source": [
        "import pandas as pd\n",
        "from sklearn.feature_extraction.text import TfidfVectorizer\n",
        "from sklearn.metrics.pairwise import cosine_similarity\n",
        "from sklearn.model_selection import train_test_split\n",
        "from sklearn.metrics import mean_squared_error, mean_absolute_error, precision_score, recall_score, f1_score\n",
        "import numpy as np\n",
        "import matplotlib.pyplot as plt\n",
        "import seaborn as sns\n",
        "from sklearn.model_selection import GridSearchCV\n",
        "from sklearn.pipeline import Pipeline\n",
        "from sklearn.linear_model import LogisticRegression\n",
        "from sklearn.decomposition import TruncatedSVD\n"
      ],
      "metadata": {
        "id": "anXRsdpiX41x"
      },
      "execution_count": 32,
      "outputs": []
    },
    {
      "cell_type": "code",
      "source": [
        "\n",
        "# Load the dataset\n",
        "df = pd.read_csv('student_domain_course_ratings.csv')\n"
      ],
      "metadata": {
        "id": "8qRALNtoBnvv"
      },
      "execution_count": 34,
      "outputs": []
    },
    {
      "cell_type": "code",
      "source": [
        "\n",
        "# Handle missing data\n",
        "df['Rating'].fillna(df['Rating'].mean(), inplace=True)\n",
        "\n",
        "# Remove duplicates\n",
        "df.drop_duplicates(inplace=True)\n",
        "\n"
      ],
      "metadata": {
        "id": "iqGrPJWaBny-"
      },
      "execution_count": 36,
      "outputs": []
    },
    {
      "cell_type": "code",
      "source": [
        "# Normalize case\n",
        "df['Domain'] = df['Domain'].str.lower()\n",
        "df['Course'] = df['Course'].str.lower()\n",
        "\n",
        "# Combine 'Domain' and 'Course' columns into a single 'content' column for TF-IDF\n",
        "df['content'] = df['Domain'] + \" \" + df['Course']\n",
        "\n"
      ],
      "metadata": {
        "id": "XEl5pT2WBn2q"
      },
      "execution_count": 38,
      "outputs": []
    },
    {
      "cell_type": "code",
      "source": [
        "# Define the pipeline with TfidfVectorizer and LogisticRegression\n",
        "pipeline = Pipeline([\n",
        "    ('tfidf', TfidfVectorizer(stop_words='english')),\n",
        "    ('clf', LogisticRegression())\n",
        "])\n",
        "\n",
        "# Define the parameter grid\n",
        "param_grid = {\n",
        "    'tfidf__ngram_range': [(1, 1), (1, 2)],  # example parameter grid for TfidfVectorizer\n",
        "    'clf__C': [0.1, 1, 10]  # example parameter grid for LogisticRegression\n",
        "}\n",
        "\n"
      ],
      "metadata": {
        "id": "an1AD0U8Bn6e"
      },
      "execution_count": 39,
      "outputs": []
    },
    {
      "cell_type": "code",
      "source": [
        "# Setup GridSearchCV\n",
        "grid_search = GridSearchCV(pipeline, param_grid, cv=5)\n",
        "\n",
        "# Fit the model\n",
        "grid_search.fit(df['content'], df['Rating'])\n",
        "\n",
        "# Calculate the cosine similarity between all courses using the best TF-IDF\n",
        "tfidf_matrix = grid_search.best_estimator_.named_steps['tfidf'].transform(df['content'])\n",
        "cosine_sim = cosine_similarity(tfidf_matrix, tfidf_matrix)\n",
        "\n",
        "# Create a series with the course names as the index, handling duplicates\n",
        "course_indices = pd.Series(df.index, index=df['Course']).drop_duplicates()\n",
        "\n",
        "# Determine the appropriate number of components for TruncatedSVD\n",
        "n_features = tfidf_matrix.shape[1]\n",
        "n_components = min(100, n_features)\n",
        "\n",
        "# Apply SVD (or another advanced algorithm) for collaborative filtering\n",
        "svd = TruncatedSVD(n_components=n_components)\n",
        "svd_matrix = svd.fit_transform(tfidf_matrix)\n",
        "\n",
        "# Example: Combine content-based and collaborative filtering scores\n",
        "combined_sim = 0.5 * cosine_sim + 0.5 * np.dot(svd_matrix, svd_matrix.T)\n",
        "\n"
      ],
      "metadata": {
        "id": "p8sL4OMvBn8a"
      },
      "execution_count": 40,
      "outputs": []
    },
    {
      "cell_type": "code",
      "source": [
        "def recommend_courses(search_input, cosine_sim=cosine_sim):\n",
        "    search_input = search_input.lower()  # Normalize user input case\n",
        "\n",
        "    if search_input in course_indices.index:\n",
        "        # User input is a course\n",
        "        idx_list = course_indices[search_input]\n",
        "\n",
        "        if len(idx_list) == 0:\n",
        "            print(\"Course not found.\")\n",
        "            return pd.DataFrame(columns=['Course', 'Rating'])\n",
        "\n",
        "        # Use the first index in case of multiple entries\n",
        "        idx = idx_list[0]\n",
        "        course_domain = df.at[idx, 'Domain']\n",
        "\n",
        "        # List courses in the same domain\n",
        "        domain_courses = df[df['Domain'] == course_domain]\n",
        "\n",
        "        # Sort courses by rating\n",
        "        domain_courses_sorted = domain_courses.sort_values(by='Rating', ascending=False).head(20)\n",
        "        return domain_courses_sorted[['Course', 'Rating']]\n",
        "\n",
        "    elif search_input in df['Domain'].values:\n",
        "        # User input is a domain\n",
        "        domain_courses = df[df['Domain'] == search_input]\n",
        "\n",
        "        # Sort courses by rating\n",
        "        domain_courses_sorted = domain_courses.sort_values(by='Rating', ascending=False).head(20)\n",
        "        return domain_courses_sorted[['Course', 'Rating']]\n",
        "\n",
        "    else:\n",
        "        print(\"Input not found.\")\n",
        "        return pd.DataFrame(columns=['Course', 'Rating'])\n",
        "\n",
        "# Example: Recommend courses based on user input\n",
        "user_input = input(\"Enter the course name : \")  # Replace with dynamic user input if needed\n",
        "recommended_courses_df = recommend_courses(user_input)\n",
        "print(\"Recommended courses:\")\n",
        "print(recommended_courses_df)\n"
      ],
      "metadata": {
        "colab": {
          "base_uri": "https://localhost:8080/"
        },
        "id": "usSxGkblBn-j",
        "outputId": "6250e898-7866-4b6b-9406-590f9c22ab6b"
      },
      "execution_count": 100,
      "outputs": [
        {
          "output_type": "stream",
          "name": "stdout",
          "text": [
            "Enter the course name : javascript\n",
            "Recommended courses:\n",
            "                 Course  Rating\n",
            "23           javascript       5\n",
            "19  backend development       4\n",
            "40             react.js       4\n",
            "49           javascript       4\n",
            "53             react.js       4\n",
            "95           javascript       3\n",
            "15           javascript       2\n",
            "22           javascript       2\n",
            "42           javascript       2\n",
            "9   backend development       1\n",
            "27           html & css       1\n",
            "59  backend development       1\n",
            "7            javascript       0\n",
            "66  backend development       0\n",
            "80  backend development       0\n",
            "85           html & css       0\n"
          ]
        },
        {
          "output_type": "stream",
          "name": "stderr",
          "text": [
            "<ipython-input-100-3218882827d3>:13: FutureWarning: Series.__getitem__ treating keys as positions is deprecated. In a future version, integer keys will always be treated as labels (consistent with DataFrame behavior). To access a value by position, use `ser.iloc[pos]`\n",
            "  idx = idx_list[0]\n"
          ]
        }
      ]
    },
    {
      "cell_type": "code",
      "source": [
        "# Plot the ratings of the recommended courses\n",
        "if not recommended_courses_df.empty:\n",
        "    plt.figure(figsize=(10, 6))\n",
        "    sns.barplot(x='Rating', y='Course', data=recommended_courses_df)\n",
        "    plt.title('Top Recommended Courses')\n",
        "    plt.xlabel('Rating')\n",
        "    plt.ylabel('Course')\n",
        "    plt.show()\n",
        "\n"
      ],
      "metadata": {
        "colab": {
          "base_uri": "https://localhost:8080/",
          "height": 564
        },
        "id": "_emIFmveBoHR",
        "outputId": "884a0ffb-c70b-476a-8e44-6f1856b7d9f4"
      },
      "execution_count": 101,
      "outputs": [
        {
          "output_type": "display_data",
          "data": {
            "text/plain": [
              "<Figure size 1000x600 with 1 Axes>"
            ],
            "image/png": "[encoded data removed]"
          },
          "metadata": {}
        }
      ]
    },
    {
      "cell_type": "code",
      "source": [
        "from sklearn.model_selection import train_test_split\n",
        "from sklearn.metrics import mean_squared_error, mean_absolute_error\n",
        "import numpy as np\n",
        "import matplotlib.pyplot as plt\n",
        "\n",
        "# Assuming tfidf_matrix and df['Rating'] are correctly defined\n",
        "\n",
        "# Train-Test Split for evaluation\n",
        "X_train, X_test, y_train, y_test = train_test_split(tfidf_matrix, df['Rating'], test_size=0.2, random_state=42)\n",
        "\n",
        "# Predict using a basic collaborative filtering model\n",
        "y_pred = [y_train.mean()] * len(y_test)  # Dummy prediction: use average rating\n",
        "\n",
        "# Evaluate using RMSE, MAE\n",
        "rmse = np.sqrt(mean_squared_error(y_test, y_pred))\n",
        "mae = mean_absolute_error(y_test, y_pred)\n",
        "\n",
        "print(f\"RMSE: {rmse}\")\n",
        "print(f\"MAE: {mae}\")\n",
        "\n",
        "# Visualize RMSE and MAE\n",
        "plt.figure(figsize=(10, 6))\n",
        "plt.bar(['RMSE', 'MAE'], [rmse, mae], color=['blue', 'red'])\n",
        "plt.title('Collaborative Filtering Evaluation')\n",
        "plt.ylabel('Error')\n",
        "plt.show()\n"
      ],
      "metadata": {
        "colab": {
          "base_uri": "https://localhost:8080/",
          "height": 580
        },
        "id": "613JbGmCBoKn",
        "outputId": "ecd4e816-aa53-4f0e-ba94-322983535d04"
      },
      "execution_count": 102,
      "outputs": [
        {
          "output_type": "stream",
          "name": "stdout",
          "text": [
            "RMSE: 1.5941788638669125\n",
            "MAE: 1.4125\n"
          ]
        },
        {
          "output_type": "display_data",
          "data": {
            "text/plain": [
              "<Figure size 1000x600 with 1 Axes>"
            ],
            "image/png": "[encoded data removed]"
          },
          "metadata": {}
        }
      ]
    },
    {
      "cell_type": "code",
      "source": [
        "# Precision, Recall, F1-Score Evaluation (if applicable)\n",
        "if not recommended_courses_df.empty:\n",
        "    true_positives = np.random.choice([1, 0], size=len(recommended_courses_df))\n",
        "    predicted_positives = np.random.choice([1, 0], size=len(recommended_courses_df))\n",
        "\n",
        "    precision = precision_score(true_positives, predicted_positives)\n",
        "    recall = recall_score(true_positives, predicted_positives)\n",
        "    f1 = f1_score(true_positives, predicted_positives)\n",
        "\n",
        "    print(f\"Precision: {precision}\")\n",
        "    print(f\"Recall: {recall}\")\n",
        "    print(f\"F1-Score: {f1}\")\n",
        "\n",
        "    # Visualize Precision, Recall, F1-Score\n",
        "    plt.figure(figsize=(10, 6))\n",
        "    metrics = ['Precision', 'Recall', 'F1-Score']\n",
        "    values = [precision, recall, f1]\n",
        "    sns.barplot(x=metrics, y=values)\n",
        "    plt.title('Content-Based Filtering Evaluation')\n",
        "    plt.ylabel('Score')\n",
        "    plt.ylim(0, 1)\n",
        "    plt.show()\n",
        "else:\n",
        "    print(\"No recommendations to evaluate.\")\n",
        "    plt.show()\n"
      ],
      "metadata": {
        "colab": {
          "base_uri": "https://localhost:8080/",
          "height": 597
        },
        "id": "vzqxCH27FF96",
        "outputId": "6aba12e9-404e-4b0a-aefa-01637aeaf03f"
      },
      "execution_count": 132,
      "outputs": [
        {
          "output_type": "stream",
          "name": "stdout",
          "text": [
            "Precision: 0.5555555555555556\n",
            "Recall: 0.625\n",
            "F1-Score: 0.5882352941176471\n"
          ]
        },
        {
          "output_type": "display_data",
          "data": {
            "text/plain": [
              "<Figure size 1000x600 with 1 Axes>"
            ],
            "image/png": "[encoded data removed]"
          },
          "metadata": {}
        }
      ]
    }
  ]
}